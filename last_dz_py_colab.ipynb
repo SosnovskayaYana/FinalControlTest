{
  "nbformat": 4,
  "nbformat_minor": 0,
  "metadata": {
    "colab": {
      "provenance": [],
      "authorship_tag": "ABX9TyPPWWtCS0Lu/tz1ilXaxj3+",
      "include_colab_link": true
    },
    "kernelspec": {
      "name": "python3",
      "display_name": "Python 3"
    },
    "language_info": {
      "name": "python"
    }
  },
  "cells": [
    {
      "cell_type": "markdown",
      "metadata": {
        "id": "view-in-github",
        "colab_type": "text"
      },
      "source": [
        "<a href=\"https://colab.research.google.com/github/SosnovskayaYana/FinalControlTest/blob/main/last_dz_py_colab.ipynb\" target=\"_parent\"><img src=\"https://colab.research.google.com/assets/colab-badge.svg\" alt=\"Open In Colab\"/></a>"
      ]
    },
    {
      "cell_type": "markdown",
      "source": [
        "## В ячейке ниже представлен код генерирующий DataFrame, которая состоит всего из 1 столбца. Ваша задача перевести его в one hot вид. Сможете ли вы это сделать без get_dummies?"
      ],
      "metadata": {
        "id": "ZG7D54Rc0TKx"
      }
    },
    {
      "cell_type": "code",
      "source": [
        "import pandas as pd"
      ],
      "metadata": {
        "id": "wSFGA06vz6kc"
      },
      "execution_count": 44,
      "outputs": []
    },
    {
      "cell_type": "code",
      "execution_count": 45,
      "metadata": {
        "id": "u1sAQnTzzOmK"
      },
      "outputs": [],
      "source": [
        "import random\n",
        "lst = ['robot'] * 10\n",
        "lst += ['human'] * 10\n",
        "random.shuffle(lst)\n"
      ]
    },
    {
      "cell_type": "markdown",
      "source": [
        "###Создаем новые столбцы, присваиваем им значение False"
      ],
      "metadata": {
        "id": "52lRgM5j-8Ny"
      }
    },
    {
      "cell_type": "code",
      "source": [
        "data = pd.DataFrame().assign(robot=False, human=False)"
      ],
      "metadata": {
        "id": "Y5Mid1JR2s6n"
      },
      "execution_count": 46,
      "outputs": []
    },
    {
      "cell_type": "markdown",
      "source": [
        "###Функция check_value проверяет значение в каждой строке. Ставит True, если значение в столбце 'whoAmI' совпадает с искомым значением."
      ],
      "metadata": {
        "id": "L8qDXUUP_a1b"
      }
    },
    {
      "cell_type": "code",
      "source": [
        "def check_value(row):\n",
        "    if row['whoAmI'] == 'robot':\n",
        "        row['robot'] = True\n",
        "    elif row['whoAmI'] == 'human':\n",
        "        row['human'] = True\n",
        "    return row"
      ],
      "metadata": {
        "id": "I88FVjNP1olI"
      },
      "execution_count": 48,
      "outputs": []
    },
    {
      "cell_type": "markdown",
      "source": [
        "###Применяем функцию check_value"
      ],
      "metadata": {
        "id": "O16eYqodAaSf"
      }
    },
    {
      "cell_type": "code",
      "source": [
        "data = data.assign(whoAmI=lst).apply(check_value, axis=1)"
      ],
      "metadata": {
        "id": "PA2WEKgq8ECn"
      },
      "execution_count": 49,
      "outputs": []
    },
    {
      "cell_type": "code",
      "source": [
        "print(data.head())"
      ],
      "metadata": {
        "colab": {
          "base_uri": "https://localhost:8080/"
        },
        "id": "plUS0uJm-RpO",
        "outputId": "7b87db9e-9dd2-4809-d606-86ad5577845f"
      },
      "execution_count": 50,
      "outputs": [
        {
          "output_type": "stream",
          "name": "stdout",
          "text": [
            "  robot human whoAmI\n",
            "0  True   NaN  robot\n",
            "1  True   NaN  robot\n",
            "2  True   NaN  robot\n",
            "3  True   NaN  robot\n",
            "4  True   NaN  robot\n"
          ]
        }
      ]
    },
    {
      "cell_type": "markdown",
      "source": [
        "###Удаляем столбец 'whoAmI'"
      ],
      "metadata": {
        "id": "w8ajPeidAylj"
      }
    },
    {
      "cell_type": "code",
      "source": [
        "data = data.drop(columns=['whoAmI'])"
      ],
      "metadata": {
        "id": "ONHsGi7D8NH3"
      },
      "execution_count": 51,
      "outputs": []
    },
    {
      "cell_type": "code",
      "source": [
        "print(data.head())"
      ],
      "metadata": {
        "colab": {
          "base_uri": "https://localhost:8080/"
        },
        "id": "W5cpTtDv8TfQ",
        "outputId": "7dd9e638-0db2-4a9a-d211-e0e308390005"
      },
      "execution_count": 52,
      "outputs": [
        {
          "output_type": "stream",
          "name": "stdout",
          "text": [
            "  robot human\n",
            "0  True   NaN\n",
            "1  True   NaN\n",
            "2  True   NaN\n",
            "3  True   NaN\n",
            "4  True   NaN\n"
          ]
        }
      ]
    }
  ]
}